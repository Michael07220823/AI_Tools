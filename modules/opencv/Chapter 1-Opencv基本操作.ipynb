{
 "cells": [
  {
   "cell_type": "markdown",
   "metadata": {},
   "source": [
    "# 產生一張影像"
   ]
  },
  {
   "cell_type": "code",
   "execution_count": 3,
   "metadata": {},
   "outputs": [],
   "source": [
    "import cv2\n",
    "import numpy as np\n",
    "\n",
    "img = np.random.randint(0, 256, size=(300, 300, 3), dtype=np.uint8)\n",
    "\n",
    "cv2.imshow(\"Img\", img)\n",
    "cv2.waitKey(0)\n",
    "cv2.destroyAllWindows()"
   ]
  },
  {
   "cell_type": "markdown",
   "metadata": {},
   "source": [
    "# 取得影像屬性"
   ]
  },
  {
   "cell_type": "code",
   "execution_count": 13,
   "metadata": {},
   "outputs": [
    {
     "name": "stdout",
     "output_type": "stream",
     "text": [
      "Image shape:  (960, 779, 3)\n",
      "Image size:  2243520\n",
      "Image data type:  uint8\n"
     ]
    }
   ],
   "source": [
    "import cv2\n",
    "\n",
    "img = cv2.imread(\"Face.jpg\")\n",
    "print(\"Image shape: \", img.shape)\n",
    "print(\"Image size: \", img.size)\n",
    "print(\"Image data type: \", img.dtype)"
   ]
  },
  {
   "cell_type": "markdown",
   "metadata": {},
   "source": [
    "# 取得與更改像素值<br>item(h, w, channel)、itemset((h, y, channel), value)"
   ]
  },
  {
   "cell_type": "code",
   "execution_count": 5,
   "metadata": {},
   "outputs": [
    {
     "name": "stdout",
     "output_type": "stream",
     "text": [
      "194\n",
      "255\n"
     ]
    }
   ],
   "source": [
    "import cv2\n",
    "import numpy as np\n",
    "\n",
    "img = np.random.randint(0, 256, size=(640, 480, 3), dtype=np.uint8)\n",
    "\n",
    "cv2.imshow(\"Orig img\", img)\n",
    "# 取得 h、w、channel索引值為1的像素值\n",
    "print(img.item(1, 1, 1))\n",
    "# 修改 h、w、channel索引值為1的像素值成255\n",
    "img.itemset((1,1,1), 255)\n",
    "print(img.item(1, 1, 1))\n",
    "\n",
    "cv2.waitKey(0)\n",
    "cv2.destroyAllWindows()"
   ]
  },
  {
   "cell_type": "markdown",
   "metadata": {},
   "source": [
    "# 通道拆分-cv2.split(image)"
   ]
  },
  {
   "cell_type": "code",
   "execution_count": 7,
   "metadata": {},
   "outputs": [
    {
     "name": "stdout",
     "output_type": "stream",
     "text": [
      "(960, 779) (960, 779) (960, 779)\n"
     ]
    }
   ],
   "source": [
    "import cv2\n",
    "\n",
    "img = cv2.imread(\"Face.jpg\")\n",
    "b,g,r = cv2.split(img)\n",
    "print(b.shape, g.shape, r.shape)\n",
    "\n",
    "cv2.imshow(\"Orig img\", img)\n",
    "cv2.imshow(\"Blue channel img\", b)\n",
    "cv2.imshow(\"Green channel img\", g)\n",
    "cv2.imshow(\"Red channel img\", r)\n",
    "cv2.waitKey(0)\n",
    "cv2.destroyAllWindows()"
   ]
  },
  {
   "cell_type": "markdown",
   "metadata": {},
   "source": [
    "# 通道合併"
   ]
  },
  {
   "cell_type": "code",
   "execution_count": 17,
   "metadata": {},
   "outputs": [],
   "source": [
    "import cv2\n",
    "\n",
    "img = cv2.imread(\"Face.jpg\")\n",
    "b,g,r = cv2.split(img)\n",
    "\n",
    "RGB_image = cv2.merge([r,g,b])\n",
    "\n",
    "cv2.imshow(\"Orig image\", img)\n",
    "cv2.imshow(\"Merage image\", RGB_image)\n",
    "cv2.waitKey(0)\n",
    "cv2.destroyAllWindows()"
   ]
  }
 ],
 "metadata": {
  "kernelspec": {
   "display_name": "Python 3",
   "language": "python",
   "name": "python3"
  },
  "language_info": {
   "codemirror_mode": {
    "name": "ipython",
    "version": 3
   },
   "file_extension": ".py",
   "mimetype": "text/x-python",
   "name": "python",
   "nbconvert_exporter": "python",
   "pygments_lexer": "ipython3",
   "version": "3.7.7"
  }
 },
 "nbformat": 4,
 "nbformat_minor": 4
}
